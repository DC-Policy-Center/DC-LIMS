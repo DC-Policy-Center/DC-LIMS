{
 "cells": [
  {
   "cell_type": "code",
   "execution_count": 1,
   "metadata": {},
   "outputs": [],
   "source": [
    "import requests\n",
    "from bs4 import BeautifulSoup as bs\n",
    "import re\n"
   ]
  },
  {
   "cell_type": "code",
   "execution_count": 2,
   "metadata": {},
   "outputs": [],
   "source": [
    "page_number = 1\n",
    "file_name = 'out-6-13-19.tsv'\n",
    "\n",
    "\n",
    "\n",
    "#headers = 'index\\tcommittee\\tsubject\\tdate\\n'\n",
    "#headers_list = ['index','committee','subject','date']\n",
    "\n",
    "headers = 'index\\tcommittee\\tdate\\tsubject\\n'\n",
    "headers_list = ['index','committee','date','subject']"
   ]
  },
  {
   "cell_type": "code",
   "execution_count": 3,
   "metadata": {},
   "outputs": [
    {
     "name": "stdout",
     "output_type": "stream",
     "text": [
      "1\n",
      "1\n",
      "1\n",
      "1\n"
     ]
    }
   ],
   "source": [
    "for page in range(4):\n",
    "\n",
    "    print(page_number)\n",
    "    url = \"http://dccouncil.us/events/list/?tribe_paged=%s\"%str(page_number)\n",
    "\n",
    "    res = requests.get(url)\n",
    "\n",
    "    soup = bs(res.content,\"lxml\")\n",
    "\n",
    "    calendar_date = soup.find(\"div\",{'class':'listing-header__subhead'})\n",
    "    articles = soup.find_all('article')\n",
    "    ul_list = []\n",
    "    hearing_dict = {}\n",
    "    article_number = 0\n",
    "    article_dict_list = []\n",
    "    for article in articles:\n",
    "        article_number +=1\n",
    "        date = 'missing-date'\n",
    "        committee = 'missing-committee'\n",
    "        subject = 'missing-subject'\n",
    "\n",
    "\n",
    "        date = article.time\n",
    "        #date = re.match(r\"<time datetime=\\\"(.*)\\+0000\",str(date))\n",
    "        date = re.match(r\"<time datetime=\\\"(.*)\\-0400\",str(date))\n",
    "        try:\n",
    "            date = date.group(1)\n",
    "        except:\n",
    "            date = 'NONETYPE'\n",
    "\n",
    "        try:\n",
    "            committee = article.a['title']\n",
    "        except:\n",
    "            committee = 'missing-committee'\n",
    "\n",
    "        subj_list = []\n",
    "        try:\n",
    "            for item in article.ul:\n",
    "                for item_2 in item:\n",
    "                    if item_2 != '\\n':\n",
    "                        new_subj = item_2\n",
    "                        '''\n",
    "                        if '/Legislation/' in str(new_subj):\n",
    "                            print('test' + str(new_subj))\n",
    "                            new_subj = re.match(r\"\\</a>\\,(.*)\\</span\\>\",str(new_subj))\n",
    "                            print(new_subj.group(1))\n",
    "                            '''\n",
    "                        subj_list.append(new_subj)\n",
    "        except: subj_list = ['NoneType']\n",
    "\n",
    "        subject = subj_list #article.ul\n",
    "\n",
    "        hearing_dict={\n",
    "            'index':article_number,\n",
    "            'committee':committee,\n",
    "            'subject':subject,\n",
    "            'date':date}\n",
    "        article_dict_list.append(hearing_dict)\n",
    "        #print(article_dict_list)\n",
    "        ul_list.append(article.ul)"
   ]
  },
  {
   "cell_type": "code",
   "execution_count": 34,
   "metadata": {},
   "outputs": [
    {
     "data": {
      "text/plain": [
       "<span style=\"font-size: 11.0pt; font-family: 'Calibri',sans-serif;\"><span style=\"font-size: 11.0pt; font-family: 'Calibri',sans-serif;\"><a href=\"http://lims.dccouncil.us/Legislation/B23-0092\">B23-92</a>, the “Grocery Store Development Projects Labor Peace Agreement Act of 2019” and</span></span>"
      ]
     },
     "execution_count": 34,
     "metadata": {},
     "output_type": "execute_result"
    }
   ],
   "source": [
    "test = article_dict_list[7]['subject']\n",
    "test[0]"
   ]
  },
  {
   "cell_type": "code",
   "execution_count": 45,
   "metadata": {},
   "outputs": [],
   "source": [
    "stripped = re.match(r\"<span.*;\\\">\",str(test[0]))"
   ]
  },
  {
   "cell_type": "code",
   "execution_count": 127,
   "metadata": {},
   "outputs": [
    {
     "data": {
      "text/plain": [
       "'<span style=\"font-size: 11.0pt; font-family: \\'Calibri\\',sans-serif;\"><span style=\"font-size: 11.0pt; font-family: \\'Calibri\\',sans-serif;\">'"
      ]
     },
     "execution_count": 127,
     "metadata": {},
     "output_type": "execute_result"
    }
   ],
   "source": [
    "stripped.group(0)"
   ]
  },
  {
   "cell_type": "code",
   "execution_count": 55,
   "metadata": {},
   "outputs": [],
   "source": [
    "a = str(test[0]).strip(str(stripped.group(0)))"
   ]
  },
  {
   "cell_type": "code",
   "execution_count": 108,
   "metadata": {},
   "outputs": [],
   "source": [
    "tt = re.search(r\"<a href=\\\"(.*)\\\">\",str(test[0]))"
   ]
  },
  {
   "cell_type": "code",
   "execution_count": 125,
   "metadata": {},
   "outputs": [
    {
     "data": {
      "text/plain": [
       "'http://lims.dccouncil.us/Legislation/B23-0092'"
      ]
     },
     "execution_count": 125,
     "metadata": {},
     "output_type": "execute_result"
    }
   ],
   "source": [
    "tt.group(1)"
   ]
  },
  {
   "cell_type": "code",
   "execution_count": 122,
   "metadata": {},
   "outputs": [],
   "source": [
    "t2 = re.search(r'{}(.*)</a>'.format(str(tt.group(0))),str(test[0]),re.MULTILINE)"
   ]
  },
  {
   "cell_type": "code",
   "execution_count": 124,
   "metadata": {},
   "outputs": [
    {
     "data": {
      "text/plain": [
       "'B23-92'"
      ]
     },
     "execution_count": 124,
     "metadata": {},
     "output_type": "execute_result"
    }
   ],
   "source": [
    "t2.group(1)"
   ]
  },
  {
   "cell_type": "code",
   "execution_count": 128,
   "metadata": {},
   "outputs": [
    {
     "ename": "ModuleNotFoundError",
     "evalue": "No module named 'date'",
     "output_type": "error",
     "traceback": [
      "\u001b[1;31m---------------------------------------------------------------------------\u001b[0m",
      "\u001b[1;31mModuleNotFoundError\u001b[0m                       Traceback (most recent call last)",
      "\u001b[1;32m<ipython-input-128-ebf959d60fa5>\u001b[0m in \u001b[0;36m<module>\u001b[1;34m\u001b[0m\n\u001b[1;32m----> 1\u001b[1;33m \u001b[1;32mimport\u001b[0m \u001b[0mdate\u001b[0m\u001b[1;33m\u001b[0m\u001b[1;33m\u001b[0m\u001b[0m\n\u001b[0m",
      "\u001b[1;31mModuleNotFoundError\u001b[0m: No module named 'date'"
     ]
    }
   ],
   "source": [
    "import date"
   ]
  },
  {
   "cell_type": "code",
   "execution_count": null,
   "metadata": {},
   "outputs": [],
   "source": []
  }
 ],
 "metadata": {
  "kernelspec": {
   "display_name": "Python 3",
   "language": "python",
   "name": "python3"
  },
  "language_info": {
   "codemirror_mode": {
    "name": "ipython",
    "version": 3
   },
   "file_extension": ".py",
   "mimetype": "text/x-python",
   "name": "python",
   "nbconvert_exporter": "python",
   "pygments_lexer": "ipython3",
   "version": "3.7.3"
  }
 },
 "nbformat": 4,
 "nbformat_minor": 2
}
